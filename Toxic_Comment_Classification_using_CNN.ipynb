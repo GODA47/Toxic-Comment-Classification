{
  "nbformat": 4,
  "nbformat_minor": 0,
  "metadata": {
    "colab": {
      "name": "Toxic Comment Classification using CNN.ipynb",
      "provenance": [],
      "collapsed_sections": []
    },
    "kernelspec": {
      "name": "python3",
      "display_name": "Python 3"
    },
    "language_info": {
      "name": "python"
    }
  },
  "cells": [
    {
      "cell_type": "code",
      "metadata": {
        "colab": {
          "base_uri": "https://localhost:8080/"
        },
        "id": "WyShwbN4SAOq",
        "outputId": "bd98350b-1adc-4d28-b0fa-0df357aece24"
      },
      "source": [
        "import numpy as np\n",
        "import torch\n",
        "import tensorflow as tf\n",
        "import random\n",
        "import os\n",
        "import pandas as pd\n",
        "import matplotlib.pyplot as plt\n",
        "\n",
        "from keras.preprocessing.text import Tokenizer\n",
        "from keras.preprocessing.sequence import pad_sequences\n",
        "\n",
        "\n",
        "from google.colab import drive\n",
        "drive.mount('/content/drive')\n"
      ],
      "execution_count": null,
      "outputs": [
        {
          "output_type": "stream",
          "name": "stdout",
          "text": [
            "Drive already mounted at /content/drive; to attempt to forcibly remount, call drive.mount(\"/content/drive\", force_remount=True).\n"
          ]
        }
      ]
    },
    {
      "cell_type": "code",
      "metadata": {
        "colab": {
          "base_uri": "https://localhost:8080/"
        },
        "id": "joqnxg83RQue",
        "outputId": "2cb878ff-6ae3-4952-e0eb-18e47e8eeeeb"
      },
      "source": [
        "# set seed to every library\n",
        "def set_random_seed(seed=13):\n",
        "    random.seed(seed)\n",
        "    np.random.seed(seed)\n",
        "    torch.manual_seed(seed)\n",
        "    tf.random.set_seed(seed)\n",
        "    os.environ['PYTHONHASHSEED'] = str(seed)\n",
        "    torch.cuda.manual_seed(seed)\n",
        "    torch.cuda.manual_seed_all(seed)\n",
        "    torch.backends.cudnn.deterministic = True\n",
        "    print('SEED IS SET TO', seed)\n",
        "set_random_seed()"
      ],
      "execution_count": null,
      "outputs": [
        {
          "output_type": "stream",
          "name": "stdout",
          "text": [
            "SEED IS SET TO 13\n"
          ]
        }
      ]
    },
    {
      "cell_type": "code",
      "metadata": {
        "id": "SK71aUYX3n8U"
      },
      "source": [
        "path = '/content/drive/MyDrive/TC_dataset/test.csv'\n",
        "path2 = '/content/drive/MyDrive/TC_dataset/test_labels.csv'\n",
        "path3 = '/content/drive/MyDrive/TC_dataset/train.csv'\n",
        "\n",
        "test_df = pd.read_csv(path)\n",
        "test_label_df = pd.read_csv(path2)\n",
        "train_df = pd.read_csv(path3)"
      ],
      "execution_count": null,
      "outputs": []
    },
    {
      "cell_type": "code",
      "source": [
        "# labels = [\"toxic\", \"severe_toxic\", \"obscene\", \"threat\", \"insult\", \"identity_hate\"]\n",
        "# freq = \n",
        "\n",
        "# for label in labels:\n",
        "    "
      ],
      "metadata": {
        "id": "cqQ2_g4elpBY"
      },
      "execution_count": null,
      "outputs": []
    },
    {
      "cell_type": "code",
      "metadata": {
        "id": "plFzuSoq-UVr",
        "colab": {
          "base_uri": "https://localhost:8080/",
          "height": 510
        },
        "outputId": "2a11042b-528e-48f8-f955-63c692518849"
      },
      "source": [
        "labels = [\"toxic\", \"severe_toxic\", \"obscene\", \"threat\", \"insult\", \"identity_hate\"]\n",
        "a = train_df[labels].sum(axis=1).tolist()\n",
        "print(a.count(0))\n",
        "print(train_df[labels].sum())"
      ],
      "execution_count": null,
      "outputs": [
        {
          "output_type": "stream",
          "name": "stdout",
          "text": [
            "143346\n",
            "toxic            15294\n",
            "severe_toxic      1595\n",
            "obscene           8449\n",
            "threat             478\n",
            "insult            7877\n",
            "identity_hate     1405\n",
            "dtype: int64\n"
          ]
        },
        {
          "output_type": "error",
          "ename": "KeyError",
          "evalue": "ignored",
          "traceback": [
            "\u001b[0;31m---------------------------------------------------------------------------\u001b[0m",
            "\u001b[0;31mKeyError\u001b[0m                                  Traceback (most recent call last)",
            "\u001b[0;32m<ipython-input-16-56487edada03>\u001b[0m in \u001b[0;36m<module>\u001b[0;34m()\u001b[0m\n\u001b[1;32m      3\u001b[0m \u001b[0mprint\u001b[0m\u001b[0;34m(\u001b[0m\u001b[0ma\u001b[0m\u001b[0;34m.\u001b[0m\u001b[0mcount\u001b[0m\u001b[0;34m(\u001b[0m\u001b[0;36m0\u001b[0m\u001b[0;34m)\u001b[0m\u001b[0;34m)\u001b[0m\u001b[0;34m\u001b[0m\u001b[0;34m\u001b[0m\u001b[0m\n\u001b[1;32m      4\u001b[0m \u001b[0mprint\u001b[0m\u001b[0;34m(\u001b[0m\u001b[0mtrain_df\u001b[0m\u001b[0;34m[\u001b[0m\u001b[0mlabels\u001b[0m\u001b[0;34m]\u001b[0m\u001b[0;34m.\u001b[0m\u001b[0msum\u001b[0m\u001b[0;34m(\u001b[0m\u001b[0;34m)\u001b[0m\u001b[0;34m)\u001b[0m\u001b[0;34m\u001b[0m\u001b[0;34m\u001b[0m\u001b[0m\n\u001b[0;32m----> 5\u001b[0;31m \u001b[0mb\u001b[0m \u001b[0;34m=\u001b[0m \u001b[0mtest_df\u001b[0m\u001b[0;34m[\u001b[0m\u001b[0mlabels\u001b[0m\u001b[0;34m]\u001b[0m\u001b[0;34m.\u001b[0m\u001b[0msum\u001b[0m\u001b[0;34m(\u001b[0m\u001b[0maxis\u001b[0m\u001b[0;34m=\u001b[0m\u001b[0;36m1\u001b[0m\u001b[0;34m)\u001b[0m\u001b[0;34m.\u001b[0m\u001b[0mtolist\u001b[0m\u001b[0;34m(\u001b[0m\u001b[0;34m)\u001b[0m\u001b[0;34m\u001b[0m\u001b[0;34m\u001b[0m\u001b[0m\n\u001b[0m\u001b[1;32m      6\u001b[0m \u001b[0mprint\u001b[0m\u001b[0;34m(\u001b[0m\u001b[0mb\u001b[0m\u001b[0;34m.\u001b[0m\u001b[0mcount\u001b[0m\u001b[0;34m(\u001b[0m\u001b[0;36m0\u001b[0m\u001b[0;34m)\u001b[0m\u001b[0;34m)\u001b[0m\u001b[0;34m\u001b[0m\u001b[0;34m\u001b[0m\u001b[0m\n\u001b[1;32m      7\u001b[0m \u001b[0mprint\u001b[0m\u001b[0;34m(\u001b[0m\u001b[0mtest_df\u001b[0m\u001b[0;34m[\u001b[0m\u001b[0mlabels\u001b[0m\u001b[0;34m]\u001b[0m\u001b[0;34m.\u001b[0m\u001b[0msum\u001b[0m\u001b[0;34m(\u001b[0m\u001b[0;34m)\u001b[0m\u001b[0;34m)\u001b[0m\u001b[0;34m\u001b[0m\u001b[0;34m\u001b[0m\u001b[0m\n",
            "\u001b[0;32m/usr/local/lib/python3.7/dist-packages/pandas/core/frame.py\u001b[0m in \u001b[0;36m__getitem__\u001b[0;34m(self, key)\u001b[0m\n\u001b[1;32m   2910\u001b[0m             \u001b[0;32mif\u001b[0m \u001b[0mis_iterator\u001b[0m\u001b[0;34m(\u001b[0m\u001b[0mkey\u001b[0m\u001b[0;34m)\u001b[0m\u001b[0;34m:\u001b[0m\u001b[0;34m\u001b[0m\u001b[0;34m\u001b[0m\u001b[0m\n\u001b[1;32m   2911\u001b[0m                 \u001b[0mkey\u001b[0m \u001b[0;34m=\u001b[0m \u001b[0mlist\u001b[0m\u001b[0;34m(\u001b[0m\u001b[0mkey\u001b[0m\u001b[0;34m)\u001b[0m\u001b[0;34m\u001b[0m\u001b[0;34m\u001b[0m\u001b[0m\n\u001b[0;32m-> 2912\u001b[0;31m             \u001b[0mindexer\u001b[0m \u001b[0;34m=\u001b[0m \u001b[0mself\u001b[0m\u001b[0;34m.\u001b[0m\u001b[0mloc\u001b[0m\u001b[0;34m.\u001b[0m\u001b[0m_get_listlike_indexer\u001b[0m\u001b[0;34m(\u001b[0m\u001b[0mkey\u001b[0m\u001b[0;34m,\u001b[0m \u001b[0maxis\u001b[0m\u001b[0;34m=\u001b[0m\u001b[0;36m1\u001b[0m\u001b[0;34m,\u001b[0m \u001b[0mraise_missing\u001b[0m\u001b[0;34m=\u001b[0m\u001b[0;32mTrue\u001b[0m\u001b[0;34m)\u001b[0m\u001b[0;34m[\u001b[0m\u001b[0;36m1\u001b[0m\u001b[0;34m]\u001b[0m\u001b[0;34m\u001b[0m\u001b[0;34m\u001b[0m\u001b[0m\n\u001b[0m\u001b[1;32m   2913\u001b[0m \u001b[0;34m\u001b[0m\u001b[0m\n\u001b[1;32m   2914\u001b[0m         \u001b[0;31m# take() does not accept boolean indexers\u001b[0m\u001b[0;34m\u001b[0m\u001b[0;34m\u001b[0m\u001b[0;34m\u001b[0m\u001b[0m\n",
            "\u001b[0;32m/usr/local/lib/python3.7/dist-packages/pandas/core/indexing.py\u001b[0m in \u001b[0;36m_get_listlike_indexer\u001b[0;34m(self, key, axis, raise_missing)\u001b[0m\n\u001b[1;32m   1252\u001b[0m             \u001b[0mkeyarr\u001b[0m\u001b[0;34m,\u001b[0m \u001b[0mindexer\u001b[0m\u001b[0;34m,\u001b[0m \u001b[0mnew_indexer\u001b[0m \u001b[0;34m=\u001b[0m \u001b[0max\u001b[0m\u001b[0;34m.\u001b[0m\u001b[0m_reindex_non_unique\u001b[0m\u001b[0;34m(\u001b[0m\u001b[0mkeyarr\u001b[0m\u001b[0;34m)\u001b[0m\u001b[0;34m\u001b[0m\u001b[0;34m\u001b[0m\u001b[0m\n\u001b[1;32m   1253\u001b[0m \u001b[0;34m\u001b[0m\u001b[0m\n\u001b[0;32m-> 1254\u001b[0;31m         \u001b[0mself\u001b[0m\u001b[0;34m.\u001b[0m\u001b[0m_validate_read_indexer\u001b[0m\u001b[0;34m(\u001b[0m\u001b[0mkeyarr\u001b[0m\u001b[0;34m,\u001b[0m \u001b[0mindexer\u001b[0m\u001b[0;34m,\u001b[0m \u001b[0maxis\u001b[0m\u001b[0;34m,\u001b[0m \u001b[0mraise_missing\u001b[0m\u001b[0;34m=\u001b[0m\u001b[0mraise_missing\u001b[0m\u001b[0;34m)\u001b[0m\u001b[0;34m\u001b[0m\u001b[0;34m\u001b[0m\u001b[0m\n\u001b[0m\u001b[1;32m   1255\u001b[0m         \u001b[0;32mreturn\u001b[0m \u001b[0mkeyarr\u001b[0m\u001b[0;34m,\u001b[0m \u001b[0mindexer\u001b[0m\u001b[0;34m\u001b[0m\u001b[0;34m\u001b[0m\u001b[0m\n\u001b[1;32m   1256\u001b[0m \u001b[0;34m\u001b[0m\u001b[0m\n",
            "\u001b[0;32m/usr/local/lib/python3.7/dist-packages/pandas/core/indexing.py\u001b[0m in \u001b[0;36m_validate_read_indexer\u001b[0;34m(self, key, indexer, axis, raise_missing)\u001b[0m\n\u001b[1;32m   1296\u001b[0m             \u001b[0;32mif\u001b[0m \u001b[0mmissing\u001b[0m \u001b[0;34m==\u001b[0m \u001b[0mlen\u001b[0m\u001b[0;34m(\u001b[0m\u001b[0mindexer\u001b[0m\u001b[0;34m)\u001b[0m\u001b[0;34m:\u001b[0m\u001b[0;34m\u001b[0m\u001b[0;34m\u001b[0m\u001b[0m\n\u001b[1;32m   1297\u001b[0m                 \u001b[0maxis_name\u001b[0m \u001b[0;34m=\u001b[0m \u001b[0mself\u001b[0m\u001b[0;34m.\u001b[0m\u001b[0mobj\u001b[0m\u001b[0;34m.\u001b[0m\u001b[0m_get_axis_name\u001b[0m\u001b[0;34m(\u001b[0m\u001b[0maxis\u001b[0m\u001b[0;34m)\u001b[0m\u001b[0;34m\u001b[0m\u001b[0;34m\u001b[0m\u001b[0m\n\u001b[0;32m-> 1298\u001b[0;31m                 \u001b[0;32mraise\u001b[0m \u001b[0mKeyError\u001b[0m\u001b[0;34m(\u001b[0m\u001b[0;34mf\"None of [{key}] are in the [{axis_name}]\"\u001b[0m\u001b[0;34m)\u001b[0m\u001b[0;34m\u001b[0m\u001b[0;34m\u001b[0m\u001b[0m\n\u001b[0m\u001b[1;32m   1299\u001b[0m \u001b[0;34m\u001b[0m\u001b[0m\n\u001b[1;32m   1300\u001b[0m             \u001b[0;31m# We (temporarily) allow for some missing keys with .loc, except in\u001b[0m\u001b[0;34m\u001b[0m\u001b[0;34m\u001b[0m\u001b[0;34m\u001b[0m\u001b[0m\n",
            "\u001b[0;31mKeyError\u001b[0m: \"None of [Index(['toxic', 'severe_toxic', 'obscene', 'threat', 'insult',\\n       'identity_hate'],\\n      dtype='object')] are in the [columns]\""
          ]
        }
      ]
    },
    {
      "cell_type": "code",
      "metadata": {
        "id": "zCy7JyTU8b7K"
      },
      "source": [
        "# max_words = 100000\n",
        "\n",
        "# tokenizer = Tokenizer(num_words=max_words, lower=True)\n",
        "# tokenizer.fit_on_texts(train_df.comment_text)\n",
        "# sequences = tokenizer.texts_to_sequences(train_df.comment_text)"
      ],
      "execution_count": null,
      "outputs": []
    },
    {
      "cell_type": "code",
      "metadata": {
        "id": "4lz4noZRiEw-"
      },
      "source": [
        "vocab_size = 100000\n",
        "seq_len = 180\n",
        "\n",
        "train_sentc = train_df['comment_text'].values.tolist()\n",
        "vectorize_layer = tf.keras.layers.TextVectorization(max_tokens=vocab_size,output_mode='int', output_sequence_length=seq_len)\n",
        "vectorize_layer.adapt(train_sentc)\n",
        "\n",
        "vectorizer = tf.keras.models.Sequential()\n",
        "vectorizer.add(tf.keras.Input(shape=(1,), dtype=tf.string))\n",
        "vectorizer.add(vectorize_layer)\n",
        "\n",
        "train_seq = vectorizer.predict(train_sentc)"
      ],
      "execution_count": null,
      "outputs": []
    },
    {
      "cell_type": "code",
      "metadata": {
        "colab": {
          "base_uri": "https://localhost:8080/"
        },
        "id": "3snqFTJ4-sgQ",
        "outputId": "81911ca6-b02a-4db3-d551-96100d4b92a0"
      },
      "source": [
        "print(train_sentc[:2])\n",
        "print(train_seq[:2])"
      ],
      "execution_count": null,
      "outputs": [
        {
          "output_type": "stream",
          "name": "stdout",
          "text": [
            "[\"Explanation\\nWhy the edits made under my username Hardcore Metallica Fan were reverted? They weren't vandalisms, just closure on some GAs after I voted at New York Dolls FAC. And please don't remove the template from the talk page since I'm retired now.89.205.38.27\", \"D'aww! He matches this background colour I'm seemingly stuck with. Thanks.  (talk) 21:51, January 11, 2016 (UTC)\"]\n",
            "[[  645    76     2   122   127   172    29   636  4604 11705  1282    83\n",
            "    313    53  2076 11060    51  6599    16    62  2660   144     8  2808\n",
            "     34   115  1152 15873  2858     5    46    55   235     2   415    31\n",
            "      2    45    28   142    70  3405 80619     0     0     0     0     0\n",
            "      0     0     0     0     0     0     0     0     0     0     0     0\n",
            "      0     0     0     0     0     0     0     0     0     0     0     0\n",
            "      0     0     0     0     0     0     0     0     0     0     0     0\n",
            "      0     0     0     0     0     0     0     0     0     0     0     0\n",
            "      0     0     0     0     0     0     0     0     0     0     0     0\n",
            "      0     0     0     0     0     0     0     0     0     0     0     0\n",
            "      0     0     0     0     0     0     0     0     0     0     0     0\n",
            "      0     0     0     0     0     0     0     0     0     0     0     0\n",
            "      0     0     0     0     0     0     0     0     0     0     0     0\n",
            "      0     0     0     0     0     0     0     0     0     0     0     0\n",
            "      0     0     0     0     0     0     0     0     0     0     0     0]\n",
            " [    1    54  2489    14  1423  3664    70  4262  2558    22    94    45\n",
            "  31751   929  1109  7596   179     0     0     0     0     0     0     0\n",
            "      0     0     0     0     0     0     0     0     0     0     0     0\n",
            "      0     0     0     0     0     0     0     0     0     0     0     0\n",
            "      0     0     0     0     0     0     0     0     0     0     0     0\n",
            "      0     0     0     0     0     0     0     0     0     0     0     0\n",
            "      0     0     0     0     0     0     0     0     0     0     0     0\n",
            "      0     0     0     0     0     0     0     0     0     0     0     0\n",
            "      0     0     0     0     0     0     0     0     0     0     0     0\n",
            "      0     0     0     0     0     0     0     0     0     0     0     0\n",
            "      0     0     0     0     0     0     0     0     0     0     0     0\n",
            "      0     0     0     0     0     0     0     0     0     0     0     0\n",
            "      0     0     0     0     0     0     0     0     0     0     0     0\n",
            "      0     0     0     0     0     0     0     0     0     0     0     0\n",
            "      0     0     0     0     0     0     0     0     0     0     0     0]]\n"
          ]
        }
      ]
    },
    {
      "cell_type": "code",
      "metadata": {
        "colab": {
          "base_uri": "https://localhost:8080/"
        },
        "id": "FEdUtS65Grc2",
        "outputId": "e156ccec-410a-46a6-c296-10bb497cd377"
      },
      "source": [
        "print(len(vectorize_layer.get_vocabulary()))\n",
        "print(vectorize_layer.get_vocabulary()[99900:])"
      ],
      "execution_count": null,
      "outputs": [
        {
          "output_type": "stream",
          "name": "stdout",
          "text": [
            "100000\n",
            "['8888aa', '886\\u200e', '88591', '885', '8847360', '883\\u200e', '882428498', '8821416510', '8819159146', '8810820922', '8781230195', '878', '877\\u200e', '874', '87194421', '8718965193', '87146', '871143031', '8711272201', '86s', '8693230182', '8671855', '867', '8669672', '865\\u200e', '86587', '8645202183', '8645196119', '8640217125', '86402144', '8640210125', '864020547', '864', '8628171246', '8618372219', '861829247', '8618264127', '8617940116', '86179113103', '8617617190', '8617616949', '8617611039', '8616491170', '8614720224', '86137201141', '8613673241', '86131167114', '8601', '86000', '85this', '85s', '85978133', '8597', '858\\u200e', '858', '855\\u200e', '855th', '8555743092', '85550', '8525555', '85237211189', '852', '851767368', '850\\u200e', '8508', '85000', '8487969402', '844\\u200e', '844', '8420369183', '8420335245', '8412780114', '8406', '83922813', '838\\u200e', '837', '836\\u200e', '835', '833', '832504441', '83170111154', '8313813690', '831025106', '830\\u200e', '830', '82\\u200e', '829\\u200e', '82992213', '82768664', '8275', '82619', '8258182118', '8247191196', '82458045', '8243210155', '824', '82331608', '8231960', '822242305', '822152']\n"
          ]
        }
      ]
    },
    {
      "cell_type": "code",
      "metadata": {
        "id": "8pWPORsqCj5O"
      },
      "source": [
        "labels = [\"toxic\", \"severe_toxic\", \"obscene\", \"threat\", \"insult\", \"identity_hate\"]\n",
        "train_labels = train_df[labels]"
      ],
      "execution_count": null,
      "outputs": []
    },
    {
      "cell_type": "code",
      "metadata": {
        "colab": {
          "base_uri": "https://localhost:8080/",
          "height": 558
        },
        "id": "aLSJGyvECyiS",
        "outputId": "434c71d7-f6e8-426d-9b73-663d2d6af87b"
      },
      "source": [
        "fig_size = plt.rcParams[\"figure.figsize\"]\n",
        "fig_size[0]=10\n",
        "fig_size[1]=8\n",
        "plt.rcParams[\"figure.figsize\"] = fig_size\n",
        "\n",
        "train_labels.sum(axis=0).plot.bar()"
      ],
      "execution_count": null,
      "outputs": [
        {
          "output_type": "execute_result",
          "data": {
            "text/plain": [
              "<matplotlib.axes._subplots.AxesSubplot at 0x7efe68d9ba90>"
            ]
          },
          "metadata": {},
          "execution_count": 10
        },
        {
          "output_type": "display_data",
          "data": {
            "image/png": "[encoded data removed]",
            "text/plain": [
              "<Figure size 720x576 with 1 Axes>"
            ]
          },
          "metadata": {
            "needs_background": "light"
          }
        }
      ]
    },
    {
      "cell_type": "code",
      "metadata": {
        "id": "9GfcesmxDeAU"
      },
      "source": [
        "from sklearn.model_selection import train_test_split\n",
        "x_train, x_test, y_train, y_test = train_test_split(train_seq,train_labels,test_size=0.1, random_state = 10)"
      ],
      "execution_count": null,
      "outputs": []
    },
    {
      "cell_type": "code",
      "metadata": {
        "id": "u8LbyNz5yDs7"
      },
      "source": [
        "y_train_list = [y_train[label].values for label in labels]\n",
        "y_test_list = [y_test[label].values for label in labels]"
      ],
      "execution_count": null,
      "outputs": []
    },
    {
      "cell_type": "code",
      "metadata": {
        "colab": {
          "base_uri": "https://localhost:8080/"
        },
        "id": "GoefEiH0yqe3",
        "outputId": "c1287d61-3713-4374-b3d8-fb9db0fc2c8a"
      },
      "source": [
        "y_test_list"
      ],
      "execution_count": null,
      "outputs": [
        {
          "output_type": "execute_result",
          "data": {
            "text/plain": [
              "[array([0, 0, 0, ..., 0, 0, 1]),\n",
              " array([0, 0, 0, ..., 0, 0, 1]),\n",
              " array([0, 0, 0, ..., 0, 0, 1]),\n",
              " array([0, 0, 0, ..., 0, 0, 0]),\n",
              " array([0, 0, 0, ..., 0, 0, 1]),\n",
              " array([0, 0, 0, ..., 0, 0, 0])]"
            ]
          },
          "metadata": {},
          "execution_count": 13
        }
      ]
    },
    {
      "cell_type": "code",
      "metadata": {
        "id": "Vf-5OXJbIoEG"
      },
      "source": [
        "from keras.models import Sequential\n",
        "from keras.layers import Dense, Embedding, GlobalMaxPool1D, Dropout, Conv1D\n",
        "from tensorflow.keras.callbacks import ReduceLROnPlateau, EarlyStopping, ModelCheckpoint\n",
        "from tensorflow.keras.optimizers import Adam"
      ],
      "execution_count": null,
      "outputs": []
    },
    {
      "cell_type": "code",
      "metadata": {
        "colab": {
          "base_uri": "https://localhost:8080/"
        },
        "id": "LFbmsAGR0uxH",
        "outputId": "e3e676c3-f2a6-47a2-930a-825eb9c72ed6"
      },
      "source": [
        "output_dim = 300\n",
        "emb_dim = 100\n",
        "\n",
        "class OutputBlock(tf.keras.layers.Layer):\n",
        "    def __init__(self, **kwargs):\n",
        "        super().__init__(**kwargs)\n",
        "        self.dense = tf.keras.layers.Dense(32, activation='relu')\n",
        "        self.dropout = tf.keras.layers.Dropout(0.2)\n",
        "        self.flatten = tf.keras.layers.Flatten()\n",
        "        self.out = tf.keras.layers.Dense(1, activation = 'sigmoid')\n",
        "    \n",
        "    def call(self, inputs):\n",
        "        Z = inputs\n",
        "        # Z = self.flatten(Z)\n",
        "        Z = self.dense(Z)\n",
        "        Z = self.dropout(Z)\n",
        "        return self.out(Z)\n",
        "\n",
        "inputs = tf.keras.layers.Input(shape = (seq_len,))\n",
        "embed = tf.keras.layers.Embedding(vocab_size, emb_dim, input_length = seq_len, mask_zero=True)(inputs)\n",
        "z = tf.keras.layers.Conv1D(output_dim, 3, padding='valid', activation='relu', strides=1)(embed)\n",
        "z = tf.keras.layers.GlobalMaxPool1D()(z)\n",
        "output_blocks = [OutputBlock(name = label) for label in labels]\n",
        "outputs = []\n",
        "for block in output_blocks:\n",
        "    outputs.append(block(z))\n",
        "model = tf.keras.models.Model(inputs=[inputs], outputs= outputs)\n",
        "model.summary()"
      ],
      "execution_count": null,
      "outputs": [
        {
          "output_type": "stream",
          "name": "stdout",
          "text": [
            "Model: \"model\"\n",
            "__________________________________________________________________________________________________\n",
            " Layer (type)                   Output Shape         Param #     Connected to                     \n",
            "==================================================================================================\n",
            " input_2 (InputLayer)           [(None, 180)]        0           []                               \n",
            "                                                                                                  \n",
            " embedding (Embedding)          (None, 180, 100)     10000000    ['input_2[0][0]']                \n",
            "                                                                                                  \n",
            " conv1d (Conv1D)                (None, 178, 300)     90300       ['embedding[0][0]']              \n",
            "                                                                                                  \n",
            " global_max_pooling1d (GlobalMa  (None, 300)         0           ['conv1d[0][0]']                 \n",
            " xPooling1D)                                                                                      \n",
            "                                                                                                  \n",
            " toxic (OutputBlock)            (None, 1)            9665        ['global_max_pooling1d[0][0]']   \n",
            "                                                                                                  \n",
            " severe_toxic (OutputBlock)     (None, 1)            9665        ['global_max_pooling1d[0][0]']   \n",
            "                                                                                                  \n",
            " obscene (OutputBlock)          (None, 1)            9665        ['global_max_pooling1d[0][0]']   \n",
            "                                                                                                  \n",
            " threat (OutputBlock)           (None, 1)            9665        ['global_max_pooling1d[0][0]']   \n",
            "                                                                                                  \n",
            " insult (OutputBlock)           (None, 1)            9665        ['global_max_pooling1d[0][0]']   \n",
            "                                                                                                  \n",
            " identity_hate (OutputBlock)    (None, 1)            9665        ['global_max_pooling1d[0][0]']   \n",
            "                                                                                                  \n",
            "==================================================================================================\n",
            "Total params: 10,148,290\n",
            "Trainable params: 10,148,290\n",
            "Non-trainable params: 0\n",
            "__________________________________________________________________________________________________\n"
          ]
        }
      ]
    },
    {
      "cell_type": "code",
      "metadata": {
        "id": "IdvVrPIZBxYd"
      },
      "source": [
        "# output_dim = 300\n",
        "# emb_dim = 20\n",
        "# model = Sequential([\n",
        "#   Embedding(vocab_size, emb_dim, input_length=seq_len),\n",
        "#   Conv1D(output_dim, 3, padding='valid', activation='relu', strides=1),\n",
        "#   Dropout(0.5),\n",
        "#   GlobalMaxPool1D(),\n",
        "#   Dense(6,activation = 'sigmoid')\n",
        "# ])"
      ],
      "execution_count": null,
      "outputs": []
    },
    {
      "cell_type": "code",
      "metadata": {
        "colab": {
          "base_uri": "https://localhost:8080/"
        },
        "id": "H4r0FR02CPOZ",
        "outputId": "b3f86607-27c2-4f96-bb8d-17f2d35fc149"
      },
      "source": [
        "model.compile(optimizer='adam', \n",
        "              loss={label:\"binary_crossentropy\" for label in labels}, \n",
        "              metrics={label:tf.keras.metrics.AUC(name='auc') for label in labels})\n",
        "model.summary()"
      ],
      "execution_count": null,
      "outputs": [
        {
          "output_type": "stream",
          "name": "stdout",
          "text": [
            "Model: \"model\"\n",
            "__________________________________________________________________________________________________\n",
            " Layer (type)                   Output Shape         Param #     Connected to                     \n",
            "==================================================================================================\n",
            " input_2 (InputLayer)           [(None, 180)]        0           []                               \n",
            "                                                                                                  \n",
            " embedding (Embedding)          (None, 180, 100)     10000000    ['input_2[0][0]']                \n",
            "                                                                                                  \n",
            " conv1d (Conv1D)                (None, 178, 300)     90300       ['embedding[0][0]']              \n",
            "                                                                                                  \n",
            " global_max_pooling1d (GlobalMa  (None, 300)         0           ['conv1d[0][0]']                 \n",
            " xPooling1D)                                                                                      \n",
            "                                                                                                  \n",
            " toxic (OutputBlock)            (None, 1)            9665        ['global_max_pooling1d[0][0]']   \n",
            "                                                                                                  \n",
            " severe_toxic (OutputBlock)     (None, 1)            9665        ['global_max_pooling1d[0][0]']   \n",
            "                                                                                                  \n",
            " obscene (OutputBlock)          (None, 1)            9665        ['global_max_pooling1d[0][0]']   \n",
            "                                                                                                  \n",
            " threat (OutputBlock)           (None, 1)            9665        ['global_max_pooling1d[0][0]']   \n",
            "                                                                                                  \n",
            " insult (OutputBlock)           (None, 1)            9665        ['global_max_pooling1d[0][0]']   \n",
            "                                                                                                  \n",
            " identity_hate (OutputBlock)    (None, 1)            9665        ['global_max_pooling1d[0][0]']   \n",
            "                                                                                                  \n",
            "==================================================================================================\n",
            "Total params: 10,148,290\n",
            "Trainable params: 10,148,290\n",
            "Non-trainable params: 0\n",
            "__________________________________________________________________________________________________\n"
          ]
        }
      ]
    },
    {
      "cell_type": "code",
      "metadata": {
        "id": "0n3Vn3qsJnfh"
      },
      "source": [
        "fp = '/content/checkpoints/model-conv1d.h5'"
      ],
      "execution_count": null,
      "outputs": []
    },
    {
      "cell_type": "code",
      "metadata": {
        "id": "7ue7G67q4rIk"
      },
      "source": [
        "callbacks = [\n",
        "    ReduceLROnPlateau(),\n",
        "    EarlyStopping(patience=3),\n",
        "    ModelCheckpoint(filepath='/content/checkpoints/model-conv1d.h5', save_best_only=True)\n",
        "]"
      ],
      "execution_count": null,
      "outputs": []
    },
    {
      "cell_type": "code",
      "metadata": {
        "colab": {
          "base_uri": "https://localhost:8080/"
        },
        "id": "IBpoGYzcNpym",
        "outputId": "2d0b2c12-812f-49f5-e76c-60af5f84959f"
      },
      "source": [
        "history = model.fit(x_train, y_train_list,\n",
        "                    class_weight = None,\n",
        "                    epochs = 20,\n",
        "                    validation_data=(x_test,y_test_list),\n",
        "                    batch_size = 32,\n",
        "                    callbacks = callbacks)"
      ],
      "execution_count": null,
      "outputs": [
        {
          "output_type": "stream",
          "name": "stdout",
          "text": [
            "Epoch 1/20\n",
            "4488/4488 [==============================] - 203s 38ms/step - loss: 0.3677 - toxic_loss: 0.1302 - severe_toxic_loss: 0.0293 - obscene_loss: 0.0704 - threat_loss: 0.0176 - insult_loss: 0.0830 - identity_hate_loss: 0.0371 - toxic_auc: 0.9544 - severe_toxic_auc: 0.9653 - obscene_auc: 0.9748 - threat_auc: 0.8469 - insult_auc: 0.9660 - identity_hate_auc: 0.9032 - val_loss: 0.2950 - val_toxic_loss: 0.1042 - val_severe_toxic_loss: 0.0223 - val_obscene_loss: 0.0520 - val_threat_loss: 0.0146 - val_insult_loss: 0.0685 - val_identity_hate_loss: 0.0334 - val_toxic_auc: 0.9703 - val_severe_toxic_auc: 0.9787 - val_obscene_auc: 0.9847 - val_threat_auc: 0.8957 - val_insult_auc: 0.9799 - val_identity_hate_auc: 0.9163 - lr: 0.0010\n",
            "Epoch 2/20\n",
            "4488/4488 [==============================] - 166s 37ms/step - loss: 0.2477 - toxic_loss: 0.0836 - severe_toxic_loss: 0.0229 - obscene_loss: 0.0466 - threat_loss: 0.0105 - insult_loss: 0.0589 - identity_hate_loss: 0.0252 - toxic_auc: 0.9831 - severe_toxic_auc: 0.9830 - obscene_auc: 0.9890 - threat_auc: 0.9476 - insult_auc: 0.9850 - identity_hate_auc: 0.9646 - val_loss: 0.2874 - val_toxic_loss: 0.1093 - val_severe_toxic_loss: 0.0232 - val_obscene_loss: 0.0511 - val_threat_loss: 0.0106 - val_insult_loss: 0.0666 - val_identity_hate_loss: 0.0266 - val_toxic_auc: 0.9635 - val_severe_toxic_auc: 0.9667 - val_obscene_auc: 0.9851 - val_threat_auc: 0.9321 - val_insult_auc: 0.9752 - val_identity_hate_auc: 0.9277 - lr: 0.0010\n",
            "Epoch 3/20\n",
            "4488/4488 [==============================] - 168s 38ms/step - loss: 0.1878 - toxic_loss: 0.0583 - severe_toxic_loss: 0.0204 - obscene_loss: 0.0372 - threat_loss: 0.0069 - insult_loss: 0.0470 - identity_hate_loss: 0.0179 - toxic_auc: 0.9921 - severe_toxic_auc: 0.9882 - obscene_auc: 0.9935 - threat_auc: 0.9714 - insult_auc: 0.9910 - identity_hate_auc: 0.9806 - val_loss: 0.3035 - val_toxic_loss: 0.1169 - val_severe_toxic_loss: 0.0251 - val_obscene_loss: 0.0538 - val_threat_loss: 0.0100 - val_insult_loss: 0.0710 - val_identity_hate_loss: 0.0269 - val_toxic_auc: 0.9623 - val_severe_toxic_auc: 0.9423 - val_obscene_auc: 0.9850 - val_threat_auc: 0.9233 - val_insult_auc: 0.9726 - val_identity_hate_auc: 0.9419 - lr: 0.0010\n",
            "Epoch 4/20\n",
            "4488/4488 [==============================] - 161s 36ms/step - loss: 0.1408 - toxic_loss: 0.0382 - severe_toxic_loss: 0.0181 - obscene_loss: 0.0291 - threat_loss: 0.0055 - insult_loss: 0.0365 - identity_hate_loss: 0.0134 - toxic_auc: 0.9962 - severe_toxic_auc: 0.9899 - obscene_auc: 0.9963 - threat_auc: 0.9890 - insult_auc: 0.9947 - identity_hate_auc: 0.9886 - val_loss: 0.4262 - val_toxic_loss: 0.1847 - val_severe_toxic_loss: 0.0256 - val_obscene_loss: 0.0657 - val_threat_loss: 0.0155 - val_insult_loss: 0.0973 - val_identity_hate_loss: 0.0375 - val_toxic_auc: 0.9319 - val_severe_toxic_auc: 0.9521 - val_obscene_auc: 0.9701 - val_threat_auc: 0.8646 - val_insult_auc: 0.9448 - val_identity_hate_auc: 0.8540 - lr: 0.0010\n",
            "Epoch 5/20\n",
            "4488/4488 [==============================] - 161s 36ms/step - loss: 0.1042 - toxic_loss: 0.0257 - severe_toxic_loss: 0.0158 - obscene_loss: 0.0216 - threat_loss: 0.0042 - insult_loss: 0.0266 - identity_hate_loss: 0.0102 - toxic_auc: 0.9978 - severe_toxic_auc: 0.9904 - obscene_auc: 0.9975 - threat_auc: 0.9910 - insult_auc: 0.9963 - identity_hate_auc: 0.9923 - val_loss: 0.4476 - val_toxic_loss: 0.1753 - val_severe_toxic_loss: 0.0284 - val_obscene_loss: 0.0785 - val_threat_loss: 0.0160 - val_insult_loss: 0.1137 - val_identity_hate_loss: 0.0358 - val_toxic_auc: 0.9400 - val_severe_toxic_auc: 0.9251 - val_obscene_auc: 0.9661 - val_threat_auc: 0.8647 - val_insult_auc: 0.9274 - val_identity_hate_auc: 0.8729 - lr: 0.0010\n"
          ]
        }
      ]
    },
    {
      "cell_type": "code",
      "metadata": {
        "id": "0dCXdvvF-Cb0"
      },
      "source": [
        "cnn_model = tf.keras.models.load_model('/content/checkpoints/model-conv1d.h5', custom_objects={'OutputBlock':OutputBlock})\n",
        "test_sentc = test_df['comment_text'].values.tolist()\n",
        "test_seq = vectorizer.predict(test_sentc)"
      ],
      "execution_count": null,
      "outputs": []
    },
    {
      "cell_type": "code",
      "metadata": {
        "id": "fSN2kjcZNuVK",
        "colab": {
          "base_uri": "https://localhost:8080/"
        },
        "outputId": "c2fe65b3-ed34-42b4-d9ce-c83b42310b69"
      },
      "source": [
        "# test_label_list = [test_label_df[label].values for label in labels]\n",
        "metrics = cnn_model.evaluate(x_test,y_test_list)\n",
        "print(\"{}: {}\".format(model.metrics_names[0], metrics[0]))\n",
        "print(\"{}: {}\".format(model.metrics_names[1], metrics[1]))\n"
      ],
      "execution_count": null,
      "outputs": [
        {
          "output_type": "stream",
          "name": "stdout",
          "text": [
            "499/499 [==============================] - 9s 16ms/step - loss: 0.2874 - toxic_loss: 0.1093 - severe_toxic_loss: 0.0232 - obscene_loss: 0.0511 - threat_loss: 0.0106 - insult_loss: 0.0666 - identity_hate_loss: 0.0266 - toxic_auc: 0.9635 - severe_toxic_auc: 0.9667 - obscene_auc: 0.9851 - threat_auc: 0.9321 - insult_auc: 0.9752 - identity_hate_auc: 0.9277\n",
            "loss: 0.287364661693573\n",
            "toxic_loss: 0.10926327854394913\n"
          ]
        }
      ]
    },
    {
      "cell_type": "code",
      "metadata": {
        "id": "G__1O_qC_gK7"
      },
      "source": [
        "predictions = cnn_model.predict(test_seq)"
      ],
      "execution_count": null,
      "outputs": []
    },
    {
      "cell_type": "code",
      "metadata": {
        "id": "EmkOxGb0-xWP",
        "colab": {
          "base_uri": "https://localhost:8080/",
          "height": 289
        },
        "outputId": "8fc356b0-1d24-4176-9cb1-bc797499d6be"
      },
      "source": [
        "test_res = test_df.copy()\n",
        "for label, y_pred in zip(labels, predictions):\n",
        "    test_res[label] = y_pred\n",
        "    \n",
        "test_res.head()"
      ],
      "execution_count": null,
      "outputs": [
        {
          "output_type": "execute_result",
          "data": {
            "text/html": [
              "<div>\n",
              "<style scoped>\n",
              "    .dataframe tbody tr th:only-of-type {\n",
              "        vertical-align: middle;\n",
              "    }\n",
              "\n",
              "    .dataframe tbody tr th {\n",
              "        vertical-align: top;\n",
              "    }\n",
              "\n",
              "    .dataframe thead th {\n",
              "        text-align: right;\n",
              "    }\n",
              "</style>\n",
              "<table border=\"1\" class=\"dataframe\">\n",
              "  <thead>\n",
              "    <tr style=\"text-align: right;\">\n",
              "      <th></th>\n",
              "      <th>id</th>\n",
              "      <th>comment_text</th>\n",
              "      <th>toxic</th>\n",
              "      <th>severe_toxic</th>\n",
              "      <th>obscene</th>\n",
              "      <th>threat</th>\n",
              "      <th>insult</th>\n",
              "      <th>identity_hate</th>\n",
              "    </tr>\n",
              "  </thead>\n",
              "  <tbody>\n",
              "    <tr>\n",
              "      <th>0</th>\n",
              "      <td>00001cee341fdb12</td>\n",
              "      <td>Yo bitch Ja Rule is more succesful then you'll...</td>\n",
              "      <td>0.987641</td>\n",
              "      <td>2.470954e-02</td>\n",
              "      <td>0.792888</td>\n",
              "      <td>2.447200e-02</td>\n",
              "      <td>0.757193</td>\n",
              "      <td>1.791850e-01</td>\n",
              "    </tr>\n",
              "    <tr>\n",
              "      <th>1</th>\n",
              "      <td>0000247867823ef7</td>\n",
              "      <td>== From RfC == \\n\\n The title is fine as it is...</td>\n",
              "      <td>0.000023</td>\n",
              "      <td>4.395067e-10</td>\n",
              "      <td>0.000014</td>\n",
              "      <td>3.000832e-09</td>\n",
              "      <td>0.000001</td>\n",
              "      <td>3.199962e-08</td>\n",
              "    </tr>\n",
              "    <tr>\n",
              "      <th>2</th>\n",
              "      <td>00013b17ad220c46</td>\n",
              "      <td>\" \\n\\n == Sources == \\n\\n * Zawe Ashton on Lap...</td>\n",
              "      <td>0.000726</td>\n",
              "      <td>1.393074e-06</td>\n",
              "      <td>0.000617</td>\n",
              "      <td>3.401517e-06</td>\n",
              "      <td>0.000112</td>\n",
              "      <td>1.271099e-05</td>\n",
              "    </tr>\n",
              "    <tr>\n",
              "      <th>3</th>\n",
              "      <td>00017563c3f7919a</td>\n",
              "      <td>:If you have a look back at the source, the in...</td>\n",
              "      <td>0.000035</td>\n",
              "      <td>1.329680e-08</td>\n",
              "      <td>0.000152</td>\n",
              "      <td>2.605510e-06</td>\n",
              "      <td>0.000025</td>\n",
              "      <td>4.828441e-07</td>\n",
              "    </tr>\n",
              "    <tr>\n",
              "      <th>4</th>\n",
              "      <td>00017695ad8997eb</td>\n",
              "      <td>I don't anonymously edit articles at all.</td>\n",
              "      <td>0.000114</td>\n",
              "      <td>1.798821e-07</td>\n",
              "      <td>0.000465</td>\n",
              "      <td>2.174833e-07</td>\n",
              "      <td>0.000046</td>\n",
              "      <td>8.783827e-06</td>\n",
              "    </tr>\n",
              "  </tbody>\n",
              "</table>\n",
              "</div>"
            ],
            "text/plain": [
              "                 id  ... identity_hate\n",
              "0  00001cee341fdb12  ...  1.791850e-01\n",
              "1  0000247867823ef7  ...  3.199962e-08\n",
              "2  00013b17ad220c46  ...  1.271099e-05\n",
              "3  00017563c3f7919a  ...  4.828441e-07\n",
              "4  00017695ad8997eb  ...  8.783827e-06\n",
              "\n",
              "[5 rows x 8 columns]"
            ]
          },
          "metadata": {},
          "execution_count": 24
        }
      ]
    },
    {
      "cell_type": "code",
      "metadata": {
        "id": "ARefWB_GsmRJ",
        "colab": {
          "base_uri": "https://localhost:8080/",
          "height": 419
        },
        "outputId": "6bd316d9-bd18-416c-d3d9-6e0d295f0209"
      },
      "source": [
        "test_res.drop(['comment_text'],axis=1).to_csv('/content/submission.csv',index=False)\n",
        "pd.read_csv('/content/submission.csv')"
      ],
      "execution_count": null,
      "outputs": [
        {
          "output_type": "execute_result",
          "data": {
            "text/html": [
              "<div>\n",
              "<style scoped>\n",
              "    .dataframe tbody tr th:only-of-type {\n",
              "        vertical-align: middle;\n",
              "    }\n",
              "\n",
              "    .dataframe tbody tr th {\n",
              "        vertical-align: top;\n",
              "    }\n",
              "\n",
              "    .dataframe thead th {\n",
              "        text-align: right;\n",
              "    }\n",
              "</style>\n",
              "<table border=\"1\" class=\"dataframe\">\n",
              "  <thead>\n",
              "    <tr style=\"text-align: right;\">\n",
              "      <th></th>\n",
              "      <th>id</th>\n",
              "      <th>toxic</th>\n",
              "      <th>severe_toxic</th>\n",
              "      <th>obscene</th>\n",
              "      <th>threat</th>\n",
              "      <th>insult</th>\n",
              "      <th>identity_hate</th>\n",
              "    </tr>\n",
              "  </thead>\n",
              "  <tbody>\n",
              "    <tr>\n",
              "      <th>0</th>\n",
              "      <td>00001cee341fdb12</td>\n",
              "      <td>0.987641</td>\n",
              "      <td>2.470954e-02</td>\n",
              "      <td>0.792888</td>\n",
              "      <td>2.447200e-02</td>\n",
              "      <td>0.757193</td>\n",
              "      <td>1.791850e-01</td>\n",
              "    </tr>\n",
              "    <tr>\n",
              "      <th>1</th>\n",
              "      <td>0000247867823ef7</td>\n",
              "      <td>0.000023</td>\n",
              "      <td>4.395067e-10</td>\n",
              "      <td>0.000014</td>\n",
              "      <td>3.000832e-09</td>\n",
              "      <td>0.000001</td>\n",
              "      <td>3.199962e-08</td>\n",
              "    </tr>\n",
              "    <tr>\n",
              "      <th>2</th>\n",
              "      <td>00013b17ad220c46</td>\n",
              "      <td>0.000726</td>\n",
              "      <td>1.393074e-06</td>\n",
              "      <td>0.000617</td>\n",
              "      <td>3.401517e-06</td>\n",
              "      <td>0.000112</td>\n",
              "      <td>1.271099e-05</td>\n",
              "    </tr>\n",
              "    <tr>\n",
              "      <th>3</th>\n",
              "      <td>00017563c3f7919a</td>\n",
              "      <td>0.000035</td>\n",
              "      <td>1.329680e-08</td>\n",
              "      <td>0.000152</td>\n",
              "      <td>2.605510e-06</td>\n",
              "      <td>0.000025</td>\n",
              "      <td>4.828441e-07</td>\n",
              "    </tr>\n",
              "    <tr>\n",
              "      <th>4</th>\n",
              "      <td>00017695ad8997eb</td>\n",
              "      <td>0.000114</td>\n",
              "      <td>1.798821e-07</td>\n",
              "      <td>0.000465</td>\n",
              "      <td>2.174833e-07</td>\n",
              "      <td>0.000046</td>\n",
              "      <td>8.783827e-06</td>\n",
              "    </tr>\n",
              "    <tr>\n",
              "      <th>...</th>\n",
              "      <td>...</td>\n",
              "      <td>...</td>\n",
              "      <td>...</td>\n",
              "      <td>...</td>\n",
              "      <td>...</td>\n",
              "      <td>...</td>\n",
              "      <td>...</td>\n",
              "    </tr>\n",
              "    <tr>\n",
              "      <th>153159</th>\n",
              "      <td>fffcd0960ee309b5</td>\n",
              "      <td>0.025728</td>\n",
              "      <td>1.212766e-06</td>\n",
              "      <td>0.001552</td>\n",
              "      <td>3.720464e-06</td>\n",
              "      <td>0.002045</td>\n",
              "      <td>1.275031e-04</td>\n",
              "    </tr>\n",
              "    <tr>\n",
              "      <th>153160</th>\n",
              "      <td>fffd7a9a6eb32c16</td>\n",
              "      <td>0.001090</td>\n",
              "      <td>5.796632e-07</td>\n",
              "      <td>0.000539</td>\n",
              "      <td>3.107861e-05</td>\n",
              "      <td>0.000072</td>\n",
              "      <td>2.933299e-05</td>\n",
              "    </tr>\n",
              "    <tr>\n",
              "      <th>153161</th>\n",
              "      <td>fffda9e8d6fafa9e</td>\n",
              "      <td>0.000217</td>\n",
              "      <td>9.943490e-09</td>\n",
              "      <td>0.000322</td>\n",
              "      <td>2.079587e-07</td>\n",
              "      <td>0.000023</td>\n",
              "      <td>1.765067e-06</td>\n",
              "    </tr>\n",
              "    <tr>\n",
              "      <th>153162</th>\n",
              "      <td>fffe8f1340a79fc2</td>\n",
              "      <td>0.002349</td>\n",
              "      <td>1.452384e-07</td>\n",
              "      <td>0.001088</td>\n",
              "      <td>3.662655e-05</td>\n",
              "      <td>0.000072</td>\n",
              "      <td>5.869391e-03</td>\n",
              "    </tr>\n",
              "    <tr>\n",
              "      <th>153163</th>\n",
              "      <td>ffffce3fb183ee80</td>\n",
              "      <td>0.796733</td>\n",
              "      <td>1.005481e-03</td>\n",
              "      <td>0.571810</td>\n",
              "      <td>1.044035e-03</td>\n",
              "      <td>0.209819</td>\n",
              "      <td>1.359031e-03</td>\n",
              "    </tr>\n",
              "  </tbody>\n",
              "</table>\n",
              "<p>153164 rows × 7 columns</p>\n",
              "</div>"
            ],
            "text/plain": [
              "                      id     toxic  ...    insult  identity_hate\n",
              "0       00001cee341fdb12  0.987641  ...  0.757193   1.791850e-01\n",
              "1       0000247867823ef7  0.000023  ...  0.000001   3.199962e-08\n",
              "2       00013b17ad220c46  0.000726  ...  0.000112   1.271099e-05\n",
              "3       00017563c3f7919a  0.000035  ...  0.000025   4.828441e-07\n",
              "4       00017695ad8997eb  0.000114  ...  0.000046   8.783827e-06\n",
              "...                  ...       ...  ...       ...            ...\n",
              "153159  fffcd0960ee309b5  0.025728  ...  0.002045   1.275031e-04\n",
              "153160  fffd7a9a6eb32c16  0.001090  ...  0.000072   2.933299e-05\n",
              "153161  fffda9e8d6fafa9e  0.000217  ...  0.000023   1.765067e-06\n",
              "153162  fffe8f1340a79fc2  0.002349  ...  0.000072   5.869391e-03\n",
              "153163  ffffce3fb183ee80  0.796733  ...  0.209819   1.359031e-03\n",
              "\n",
              "[153164 rows x 7 columns]"
            ]
          },
          "metadata": {},
          "execution_count": 26
        }
      ]
    },
    {
      "cell_type": "code",
      "metadata": {
        "id": "5vP16D-uCIlL"
      },
      "source": [
        "# test_tokenizer = Tokenizer(num_words=max_words, lower=True)\n",
        "# test_tokenizer.fit_on_texts(test_df.comment_text)\n",
        "# test_sequences = test_tokenizer.texts_to_sequences(test_df.comment_text)\n",
        "# test = pad_sequences(test_sequences, maxlen = maxlen)"
      ],
      "execution_count": null,
      "outputs": []
    },
    {
      "cell_type": "code",
      "metadata": {
        "id": "w_UsrpHCjBx5"
      },
      "source": [
        "# test_labels = test_label_df[labels]\n",
        "# metrics = cnn_model.evaluate(test,test_labels.)\n",
        "# print(\"{}: {}\".format(model.metrics_names[0], metrics[0]))\n",
        "# print(\"{}: {}\".format(model.metrics_names[1], metrics[1]))"
      ],
      "execution_count": null,
      "outputs": []
    },
    {
      "cell_type": "code",
      "metadata": {
        "id": "H0m8haTyppcQ"
      },
      "source": [
        "# prediction = cnn_model.predict(test)\n",
        "# prediction"
      ],
      "execution_count": null,
      "outputs": []
    },
    {
      "cell_type": "code",
      "metadata": {
        "id": "GAd6MtKurGTo"
      },
      "source": [
        "# np.transpose(prediction).shape"
      ],
      "execution_count": null,
      "outputs": []
    },
    {
      "cell_type": "code",
      "metadata": {
        "id": "g6ugMbriolRQ"
      },
      "source": [
        "# test_res = test_df.copy()\n",
        "# LB = [\"toxic\", \"severe_toxic\", \"obscene\", \"threat\", \"insult\", \"identity_hate\"]\n",
        "# for label, y_pred in zip(LB, np.transpose(prediction)):\n",
        "#     test_res.insert(len(test_res.columns),label,y_pred)\n",
        "\n",
        "# test_res"
      ],
      "execution_count": null,
      "outputs": []
    },
    {
      "cell_type": "code",
      "metadata": {
        "id": "O0VPLFLI4hZB"
      },
      "source": [
        "test_label_df[[\"toxic\", \"severe_toxic\", \"obscene\", \"threat\", \"insult\", \"identity_hate\"]]"
      ],
      "execution_count": null,
      "outputs": []
    },
    {
      "cell_type": "code",
      "metadata": {
        "id": "tqWZwnBp4aMI"
      },
      "source": [
        "test_df"
      ],
      "execution_count": null,
      "outputs": []
    },
    {
      "cell_type": "code",
      "metadata": {
        "id": "H0HDBZJ0TAM0"
      },
      "source": [
        "x_train"
      ],
      "execution_count": null,
      "outputs": []
    },
    {
      "cell_type": "code",
      "metadata": {
        "id": "ZcEsssgXTlgK"
      },
      "source": [
        "train"
      ],
      "execution_count": null,
      "outputs": []
    },
    {
      "cell_type": "code",
      "metadata": {
        "id": "SJn9NTBk3Auf"
      },
      "source": [
        "train_df"
      ],
      "execution_count": null,
      "outputs": []
    },
    {
      "cell_type": "code",
      "metadata": {
        "id": "hkutmzoYB_VO",
        "colab": {
          "base_uri": "https://localhost:8080/",
          "height": 34
        },
        "outputId": "95d92362-c287-486c-8330-7706401fa8ec"
      },
      "source": [
        "from google.colab import files\n",
        "files.download('/content/checkpoints/model-conv1d.h5')"
      ],
      "execution_count": null,
      "outputs": [
        {
          "output_type": "display_data",
          "data": {
            "application/javascript": [
              "\n",
              "    async function download(id, filename, size) {\n",
              "      if (!google.colab.kernel.accessAllowed) {\n",
              "        return;\n",
              "      }\n",
              "      const div = document.createElement('div');\n",
              "      const label = document.createElement('label');\n",
              "      label.textContent = `Downloading \"${filename}\": `;\n",
              "      div.appendChild(label);\n",
              "      const progress = document.createElement('progress');\n",
              "      progress.max = size;\n",
              "      div.appendChild(progress);\n",
              "      document.body.appendChild(div);\n",
              "\n",
              "      const buffers = [];\n",
              "      let downloaded = 0;\n",
              "\n",
              "      const channel = await google.colab.kernel.comms.open(id);\n",
              "      // Send a message to notify the kernel that we're ready.\n",
              "      channel.send({})\n",
              "\n",
              "      for await (const message of channel.messages) {\n",
              "        // Send a message to notify the kernel that we're ready.\n",
              "        channel.send({})\n",
              "        if (message.buffers) {\n",
              "          for (const buffer of message.buffers) {\n",
              "            buffers.push(buffer);\n",
              "            downloaded += buffer.byteLength;\n",
              "            progress.value = downloaded;\n",
              "          }\n",
              "        }\n",
              "      }\n",
              "      const blob = new Blob(buffers, {type: 'application/binary'});\n",
              "      const a = document.createElement('a');\n",
              "      a.href = window.URL.createObjectURL(blob);\n",
              "      a.download = filename;\n",
              "      div.appendChild(a);\n",
              "      a.click();\n",
              "      div.remove();\n",
              "    }\n",
              "  "
            ],
            "text/plain": [
              "<IPython.core.display.Javascript object>"
            ]
          },
          "metadata": {}
        },
        {
          "output_type": "display_data",
          "data": {
            "application/javascript": [
              "download(\"download_93b19288-6d23-4187-8529-6812771fc046\", \"model-conv1d.h5\", 121904600)"
            ],
            "text/plain": [
              "<IPython.core.display.Javascript object>"
            ]
          },
          "metadata": {}
        }
      ]
    },
    {
      "cell_type": "code",
      "metadata": {
        "id": "4Ruzdrwq9ybN"
      },
      "source": [
        "! du -sh /content/checkpoints"
      ],
      "execution_count": null,
      "outputs": []
    }
  ]
}